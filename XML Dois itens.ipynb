{
 "cells": [
  {
   "cell_type": "code",
   "execution_count": 2,
   "metadata": {},
   "outputs": [],
   "source": [
    "import xmltodict"
   ]
  },
  {
   "cell_type": "code",
   "execution_count": 3,
   "metadata": {},
   "outputs": [],
   "source": [
    "with open('NF 4762 Com dois itens.xml') as fd:\n",
    "    doc = xmltodict.parse(fd.read())"
   ]
  },
  {
   "cell_type": "code",
   "execution_count": 12,
   "metadata": {},
   "outputs": [
    {
     "data": {
      "text/plain": [
       "odict_keys(['@versao', '@Id', 'ide', 'emit', 'dest', 'det', 'total', 'transp', 'cobr', 'pag', 'infAdic'])"
      ]
     },
     "execution_count": 12,
     "metadata": {},
     "output_type": "execute_result"
    }
   ],
   "source": [
    "doc['nfeProc']['NFe'][\"infNFe\"].keys()"
   ]
  },
  {
   "cell_type": "code",
   "execution_count": 16,
   "metadata": {},
   "outputs": [
    {
     "data": {
      "text/plain": [
       "OrderedDict([('CNPJ', '97092555000142'),\n",
       "             ('xNome', 'METALURGICA SUL ALCAS LTDA ME'),\n",
       "             ('xFant', 'SUL ALCAS'),\n",
       "             ('enderEmit',\n",
       "              OrderedDict([('xLgr', 'TRAVESSA ALBRECHT OTTO FRANTZ'),\n",
       "                           ('nro', '083'),\n",
       "                           ('xBairro', 'SAO JOAO'),\n",
       "                           ('cMun', '4302402'),\n",
       "                           ('xMun', 'BOM RETIRO DO SUL'),\n",
       "                           ('UF', 'RS'),\n",
       "                           ('CEP', '95870000'),\n",
       "                           ('cPais', '1058'),\n",
       "                           ('xPais', 'BRASIL'),\n",
       "                           ('fone', '5137663324')])),\n",
       "             ('IE', '0120024640'),\n",
       "             ('CRT', '3')])"
      ]
     },
     "execution_count": 16,
     "metadata": {},
     "output_type": "execute_result"
    }
   ],
   "source": [
    "#CNPJ EMITENTE\n",
    "doc['nfeProc']['NFe'][\"infNFe\"]['emit']"
   ]
  },
  {
   "cell_type": "code",
   "execution_count": null,
   "metadata": {},
   "outputs": [],
   "source": [
    "doc['nfeProc']['NFe'][\"infNFe\"]"
   ]
  },
  {
   "cell_type": "code",
   "execution_count": 26,
   "metadata": {},
   "outputs": [
    {
     "data": {
      "text/plain": [
       "[OrderedDict([('@nItem', '1'),\n",
       "              ('prod',\n",
       "               OrderedDict([('cProd', '0000000003'),\n",
       "                            ('cEAN', 'SEM GTIN'),\n",
       "                            ('xProd', 'ALCA PLASTICA 20564 PRETA'),\n",
       "                            ('NCM', '39231090'),\n",
       "                            ('CFOP', '6101'),\n",
       "                            ('uCom', 'MI'),\n",
       "                            ('qCom', '21.0000'),\n",
       "                            ('vUnCom', '215.7000000000'),\n",
       "                            ('vProd', '4529.70'),\n",
       "                            ('cEANTrib', 'SEM GTIN'),\n",
       "                            ('uTrib', 'MI'),\n",
       "                            ('qTrib', '21.0000'),\n",
       "                            ('vUnTrib', '215.7000000000'),\n",
       "                            ('indTot', '1')])),\n",
       "              ('imposto',\n",
       "               OrderedDict([('ICMS',\n",
       "                             OrderedDict([('ICMS00',\n",
       "                                           OrderedDict([('orig', '0'),\n",
       "                                                        ('CST', '00'),\n",
       "                                                        ('modBC', '3'),\n",
       "                                                        ('vBC', '4529.70'),\n",
       "                                                        ('pICMS', '12.0000'),\n",
       "                                                        ('vICMS',\n",
       "                                                         '543.56')]))])),\n",
       "                            ('IPI',\n",
       "                             OrderedDict([('cEnq', '999'),\n",
       "                                          ('IPITrib',\n",
       "                                           OrderedDict([('CST', '00'),\n",
       "                                                        ('vBC', '4529.70'),\n",
       "                                                        ('pIPI', '15.0000'),\n",
       "                                                        ('vIPI',\n",
       "                                                         '679.45')]))])),\n",
       "                            ('PIS',\n",
       "                             OrderedDict([('PISAliq',\n",
       "                                           OrderedDict([('CST', '01'),\n",
       "                                                        ('vBC', '4529.70'),\n",
       "                                                        ('pPIS', '0.6500'),\n",
       "                                                        ('vPIS',\n",
       "                                                         '29.44')]))])),\n",
       "                            ('COFINS',\n",
       "                             OrderedDict([('COFINSAliq',\n",
       "                                           OrderedDict([('CST', '01'),\n",
       "                                                        ('vBC', '4529.70'),\n",
       "                                                        ('pCOFINS', '3.0000'),\n",
       "                                                        ('vCOFINS',\n",
       "                                                         '135.89')]))]))]))]),\n",
       " OrderedDict([('@nItem', '2'),\n",
       "              ('prod',\n",
       "               OrderedDict([('cProd', '0000000009'),\n",
       "                            ('cEAN', 'SEM GTIN'),\n",
       "                            ('xProd', 'ALCA PLASTICA 20564 NATURAL'),\n",
       "                            ('NCM', '39231090'),\n",
       "                            ('CFOP', '6101'),\n",
       "                            ('uCom', 'MI'),\n",
       "                            ('qCom', '28.0000'),\n",
       "                            ('vUnCom', '215.7000000000'),\n",
       "                            ('vProd', '6039.60'),\n",
       "                            ('cEANTrib', 'SEM GTIN'),\n",
       "                            ('uTrib', 'MI'),\n",
       "                            ('qTrib', '28.0000'),\n",
       "                            ('vUnTrib', '215.7000000000'),\n",
       "                            ('indTot', '1')])),\n",
       "              ('imposto',\n",
       "               OrderedDict([('ICMS',\n",
       "                             OrderedDict([('ICMS00',\n",
       "                                           OrderedDict([('orig', '0'),\n",
       "                                                        ('CST', '00'),\n",
       "                                                        ('modBC', '3'),\n",
       "                                                        ('vBC', '6039.60'),\n",
       "                                                        ('pICMS', '12.0000'),\n",
       "                                                        ('vICMS',\n",
       "                                                         '724.75')]))])),\n",
       "                            ('IPI',\n",
       "                             OrderedDict([('cEnq', '999'),\n",
       "                                          ('IPITrib',\n",
       "                                           OrderedDict([('CST', '00'),\n",
       "                                                        ('vBC', '6039.60'),\n",
       "                                                        ('pIPI', '15.0000'),\n",
       "                                                        ('vIPI',\n",
       "                                                         '905.94')]))])),\n",
       "                            ('PIS',\n",
       "                             OrderedDict([('PISAliq',\n",
       "                                           OrderedDict([('CST', '01'),\n",
       "                                                        ('vBC', '6039.60'),\n",
       "                                                        ('pPIS', '0.6500'),\n",
       "                                                        ('vPIS',\n",
       "                                                         '39.26')]))])),\n",
       "                            ('COFINS',\n",
       "                             OrderedDict([('COFINSAliq',\n",
       "                                           OrderedDict([('CST', '01'),\n",
       "                                                        ('vBC', '6039.60'),\n",
       "                                                        ('pCOFINS', '3.0000'),\n",
       "                                                        ('vCOFINS',\n",
       "                                                         '181.19')]))]))]))])]"
      ]
     },
     "execution_count": 26,
     "metadata": {},
     "output_type": "execute_result"
    }
   ],
   "source": [
    "doc['nfeProc']['NFe'][\"infNFe\"][\"det\"]"
   ]
  },
  {
   "cell_type": "code",
   "execution_count": 35,
   "metadata": {},
   "outputs": [
    {
     "data": {
      "text/plain": [
       "OrderedDict([('ICMS',\n",
       "              OrderedDict([('ICMS00',\n",
       "                            OrderedDict([('orig', '0'),\n",
       "                                         ('CST', '00'),\n",
       "                                         ('modBC', '3'),\n",
       "                                         ('vBC', '4529.70'),\n",
       "                                         ('pICMS', '12.0000'),\n",
       "                                         ('vICMS', '543.56')]))])),\n",
       "             ('IPI',\n",
       "              OrderedDict([('cEnq', '999'),\n",
       "                           ('IPITrib',\n",
       "                            OrderedDict([('CST', '00'),\n",
       "                                         ('vBC', '4529.70'),\n",
       "                                         ('pIPI', '15.0000'),\n",
       "                                         ('vIPI', '679.45')]))])),\n",
       "             ('PIS',\n",
       "              OrderedDict([('PISAliq',\n",
       "                            OrderedDict([('CST', '01'),\n",
       "                                         ('vBC', '4529.70'),\n",
       "                                         ('pPIS', '0.6500'),\n",
       "                                         ('vPIS', '29.44')]))])),\n",
       "             ('COFINS',\n",
       "              OrderedDict([('COFINSAliq',\n",
       "                            OrderedDict([('CST', '01'),\n",
       "                                         ('vBC', '4529.70'),\n",
       "                                         ('pCOFINS', '3.0000'),\n",
       "                                         ('vCOFINS', '135.89')]))]))])"
      ]
     },
     "execution_count": 35,
     "metadata": {},
     "output_type": "execute_result"
    }
   ],
   "source": [
    "doc['nfeProc']['NFe'][\"infNFe\"][\"det\"][0][\"imposto\"]"
   ]
  },
  {
   "cell_type": "code",
   "execution_count": 33,
   "metadata": {},
   "outputs": [
    {
     "data": {
      "text/plain": [
       "OrderedDict([('ICMSTot',\n",
       "              OrderedDict([('vBC', '10569.30'),\n",
       "                           ('vICMS', '1268.31'),\n",
       "                           ('vICMSDeson', '0.00'),\n",
       "                           ('vFCP', '0.00'),\n",
       "                           ('vBCST', '0.00'),\n",
       "                           ('vST', '0.00'),\n",
       "                           ('vFCPST', '0.00'),\n",
       "                           ('vFCPSTRet', '0.00'),\n",
       "                           ('vProd', '10569.30'),\n",
       "                           ('vFrete', '0.00'),\n",
       "                           ('vSeg', '0.00'),\n",
       "                           ('vDesc', '0.00'),\n",
       "                           ('vII', '0.00'),\n",
       "                           ('vIPI', '1585.39'),\n",
       "                           ('vIPIDevol', '0.00'),\n",
       "                           ('vPIS', '68.70'),\n",
       "                           ('vCOFINS', '317.08'),\n",
       "                           ('vOutro', '0.00'),\n",
       "                           ('vNF', '12154.69')]))])"
      ]
     },
     "execution_count": 33,
     "metadata": {},
     "output_type": "execute_result"
    }
   ],
   "source": [
    "doc['nfeProc']['NFe'][\"infNFe\"][\"total\"]"
   ]
  },
  {
   "cell_type": "code",
   "execution_count": null,
   "metadata": {},
   "outputs": [],
   "source": [
    "with open('result.xml', 'w') as result_file:\n",
    "    result_file.write(xmltodict.unparse(doc,full_document=False))"
   ]
  }
 ],
 "metadata": {
  "kernelspec": {
   "display_name": "Python 3",
   "language": "python",
   "name": "python3"
  },
  "language_info": {
   "codemirror_mode": {
    "name": "ipython",
    "version": 3
   },
   "file_extension": ".py",
   "mimetype": "text/x-python",
   "name": "python",
   "nbconvert_exporter": "python",
   "pygments_lexer": "ipython3",
   "version": "3.7.3"
  }
 },
 "nbformat": 4,
 "nbformat_minor": 4
}
