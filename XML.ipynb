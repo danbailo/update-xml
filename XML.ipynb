{
 "cells": [
  {
   "cell_type": "markdown",
   "metadata": {},
   "source": [
    "https://github.com/martinblech/xmltodict#roundtripping"
   ]
  },
  {
   "cell_type": "code",
   "execution_count": null,
   "metadata": {},
   "outputs": [],
   "source": [
    "import xmltodict"
   ]
  },
  {
   "cell_type": "code",
   "execution_count": null,
   "metadata": {},
   "outputs": [],
   "source": [
    "with open('NF_000067228_ChaveAcesso_35190711272246000481550010000672281733208444.xml') as fd:\n",
    "    doc = xmltodict.parse(fd.read())"
   ]
  },
  {
   "cell_type": "code",
   "execution_count": null,
   "metadata": {},
   "outputs": [],
   "source": [
    "doc"
   ]
  },
  {
   "cell_type": "code",
   "execution_count": null,
   "metadata": {},
   "outputs": [],
   "source": [
    "doc.keys()"
   ]
  },
  {
   "cell_type": "code",
   "execution_count": null,
   "metadata": {},
   "outputs": [],
   "source": [
    "doc['nfeProc'].keys()"
   ]
  },
  {
   "cell_type": "code",
   "execution_count": null,
   "metadata": {},
   "outputs": [],
   "source": [
    "# doc['nfeProc']['protNFe'] #nada de importante\n",
    "# doc['nfeProc']['protNFe'] #nada de importante\n",
    "#@xmlns\n",
    "# doc['nfeProc']['NFe']['Signature'] #nada de importante"
   ]
  },
  {
   "cell_type": "code",
   "execution_count": null,
   "metadata": {},
   "outputs": [],
   "source": [
    "#doc['nfeProc']['NFe']['infNFe'] #campo importante, possui todas as inf q vou precisar\n",
    "doc['nfeProc']['NFe']['infNFe']"
   ]
  },
  {
   "cell_type": "code",
   "execution_count": null,
   "metadata": {},
   "outputs": [],
   "source": [
    "doc['nfeProc']['NFe']['infNFe']['emit'] #campo importante, possui o cnpj emitido"
   ]
  },
  {
   "cell_type": "code",
   "execution_count": null,
   "metadata": {},
   "outputs": [],
   "source": [
    "doc['nfeProc']['NFe']['infNFe']['det'] #possui os campos para fazer as operacoes"
   ]
  },
  {
   "cell_type": "markdown",
   "metadata": {},
   "source": [
    "Identificar os critérios exigidos. Exemplo: de todos os cm em tal pasta identificar os CNPJ de determinados emitentes (campo emitente)\n",
    "Aplicar a operação: para os XML identificados aplicar a operação matemática com os campos indicados. Exemplo: subtrair o campo vpis com o campo vicms, o resultado deve ser inserido no campo vpis\n",
    "\n",
    "não, ainda não é o caminho. a fórmula é \\<vBC>6567.69\\</vBC> do PIS - \\<vICMS>1182.18\\</vICMS> =  \\<vBC>1182,18\\</vBC> do PIS"
   ]
  },
  {
   "cell_type": "markdown",
   "metadata": {},
   "source": [
    "0 - aplicar as regras abaixo somente para determinados CNPJ constantes no campo emitente\n",
    "\n",
    "1 - retirar o vicms da vbc pis\n",
    "\n",
    "2 - calcular vpis multiplicando ppis com vbc pis\n",
    "\n",
    "3 - retirar o vicms da vbc cofins\n",
    "\n",
    "4 - calcular vcofins multiplicando pcofins com vbc cofins\n",
    "\n",
    "5 - atualizar \\<total> \\<vPIS>\\</vPIS> \\<vCOFINS>\\</vCOFINS> com os novos valores totais de pis cofins"
   ]
  },
  {
   "cell_type": "code",
   "execution_count": null,
   "metadata": {},
   "outputs": [],
   "source": [
    "doc['nfeProc']['NFe']['infNFe']['det']['imposto']"
   ]
  },
  {
   "cell_type": "code",
   "execution_count": null,
   "metadata": {},
   "outputs": [],
   "source": [
    "doc['nfeProc']['NFe']['infNFe']['det']['imposto']['PIS']['PISAliq']['vBC']"
   ]
  },
  {
   "cell_type": "code",
   "execution_count": null,
   "metadata": {},
   "outputs": [],
   "source": [
    "vbc_PIS = doc['nfeProc']['NFe']['infNFe']['det']['imposto']['PIS']['PISAliq']['vBC']"
   ]
  },
  {
   "cell_type": "code",
   "execution_count": null,
   "metadata": {},
   "outputs": [],
   "source": [
    "doc['nfeProc']['NFe']['infNFe']['det']['imposto']['ICMS']['ICMS00']['vICMS']"
   ]
  },
  {
   "cell_type": "code",
   "execution_count": null,
   "metadata": {},
   "outputs": [],
   "source": [
    "vicms_ICMS = doc['nfeProc']['NFe']['infNFe']['det']['imposto']['ICMS']['ICMS00']['vICMS']"
   ]
  },
  {
   "cell_type": "code",
   "execution_count": null,
   "metadata": {},
   "outputs": [],
   "source": [
    "round(eval(vbc_PIS +'-'+ vicms_ICMS),2)"
   ]
  },
  {
   "cell_type": "code",
   "execution_count": null,
   "metadata": {},
   "outputs": [],
   "source": [
    "doc['nfeProc']['NFe']['infNFe']['det']['imposto']['PIS']['PISAliq']['vBC'] = round(eval(vbc_PIS +'-'+ vicms_ICMS),2)"
   ]
  },
  {
   "cell_type": "markdown",
   "metadata": {},
   "source": [
    "campo atualizado"
   ]
  },
  {
   "cell_type": "code",
   "execution_count": null,
   "metadata": {},
   "outputs": [],
   "source": [
    "doc['nfeProc']['NFe']['infNFe']['det']['imposto']"
   ]
  },
  {
   "cell_type": "code",
   "execution_count": null,
   "metadata": {},
   "outputs": [],
   "source": [
    "with open('result.xml', 'w') as result_file:\n",
    "    result_file.write(xmltodict.unparse(doc,full_document=False))"
   ]
  },
  {
   "cell_type": "code",
   "execution_count": null,
   "metadata": {},
   "outputs": [],
   "source": []
  },
  {
   "cell_type": "code",
   "execution_count": null,
   "metadata": {},
   "outputs": [],
   "source": []
  },
  {
   "cell_type": "markdown",
   "metadata": {},
   "source": [
    "# VERSÃO 2"
   ]
  },
  {
   "cell_type": "code",
   "execution_count": 21,
   "metadata": {},
   "outputs": [],
   "source": [
    "with open('NF_000067228_ChaveAcesso_35190711272246000481550010000672281733208444.xml') as fd:\n",
    "    doc = xmltodict.parse(fd.read())"
   ]
  },
  {
   "cell_type": "code",
   "execution_count": 22,
   "metadata": {},
   "outputs": [
    {
     "data": {
      "text/plain": [
       "OrderedDict([('@Id', 'NFe35190711272246000481550010000672281733208444'),\n",
       "             ('@versao', '4.00'),\n",
       "             ('ide',\n",
       "              OrderedDict([('cUF', '35'),\n",
       "                           ('cNF', '73320844'),\n",
       "                           ('natOp',\n",
       "                            'VENDA DE PRODUCAO DO ESTABELECIMENTO QUE NAO DEVA POR ELE'),\n",
       "                           ('mod', '55'),\n",
       "                           ('serie', '1'),\n",
       "                           ('nNF', '67228'),\n",
       "                           ('dhEmi', '2019-07-25T15:22:38-03:00'),\n",
       "                           ('tpNF', '1'),\n",
       "                           ('idDest', '1'),\n",
       "                           ('cMunFG', '3550308'),\n",
       "                           ('tpImp', '1'),\n",
       "                           ('tpEmis', '1'),\n",
       "                           ('cDV', '4'),\n",
       "                           ('tpAmb', '1'),\n",
       "                           ('finNFe', '1'),\n",
       "                           ('indFinal', '0'),\n",
       "                           ('indPres', '9'),\n",
       "                           ('procEmi', '0'),\n",
       "                           ('verProc', '5.0')])),\n",
       "             ('emit',\n",
       "              OrderedDict([('CNPJ', '11272246000481'),\n",
       "                           ('xNome',\n",
       "                            'CPE - COMPOSTOS PLASTICOS DE ENGENHARIA LTDA.'),\n",
       "                           ('xFant',\n",
       "                            'CPE - COMPOSTOS PLASTICOS DE ENGENHARIA LTDA.'),\n",
       "                           ('enderEmit',\n",
       "                            OrderedDict([('xLgr',\n",
       "                                          'RUA MANOEL PINTO DE CARVALHO'),\n",
       "                                         ('nro', '229'),\n",
       "                                         ('xBairro', 'LIMAO'),\n",
       "                                         ('cMun', '3550308'),\n",
       "                                         ('xMun', 'SAO PAULO'),\n",
       "                                         ('UF', 'SP'),\n",
       "                                         ('CEP', '02712120'),\n",
       "                                         ('cPais', '1058'),\n",
       "                                         ('xPais', 'BRASIL')])),\n",
       "                           ('IE', '147254659115'),\n",
       "                           ('CRT', '3')])),\n",
       "             ('dest',\n",
       "              OrderedDict([('CNPJ', '01894945000167'),\n",
       "                           ('xNome', 'METAL G BRASIL LTDA'),\n",
       "                           ('enderDest',\n",
       "                            OrderedDict([('xLgr',\n",
       "                                          'ROD DOUTOR EDMIR VIANA MOURA 2351'),\n",
       "                                         ('nro', 'KM 13'),\n",
       "                                         ('xBairro', 'VILA PARAISO'),\n",
       "                                         ('cMun', '3508504'),\n",
       "                                         ('xMun', 'CACAPAVA'),\n",
       "                                         ('UF', 'SP'),\n",
       "                                         ('CEP', '12286710'),\n",
       "                                         ('cPais', '1058'),\n",
       "                                         ('xPais', 'BRASIL'),\n",
       "                                         ('fone', '1236529200')])),\n",
       "                           ('indIEDest', '1'),\n",
       "                           ('IE', '234100756113')])),\n",
       "             ('det',\n",
       "              OrderedDict([('@nItem', '1'),\n",
       "                           ('prod',\n",
       "                            OrderedDict([('cProd', '11008513'),\n",
       "                                         ('cEAN', 'SEM GTIN'),\n",
       "                                         ('xProd',\n",
       "                                          'STAPP TF1308 ESU CZ185 BGXX25 KG ITEM: C390 /GMID: 11008513'),\n",
       "                                         ('NCM', '39019090'),\n",
       "                                         ('CFOP', '5105'),\n",
       "                                         ('uCom', 'KG'),\n",
       "                                         ('qCom', '500.00'),\n",
       "                                         ('vUnCom', '13.13538'),\n",
       "                                         ('vProd', '6567.69'),\n",
       "                                         ('cEANTrib', 'SEM GTIN'),\n",
       "                                         ('uTrib', 'KG'),\n",
       "                                         ('qTrib', '500.00'),\n",
       "                                         ('vUnTrib', '13.13538'),\n",
       "                                         ('indTot', '1'),\n",
       "                                         ('nFCI',\n",
       "                                          '3E2BAC23-5E4E-4677-89A2-E38B40C19206')])),\n",
       "                           ('imposto',\n",
       "                            OrderedDict([('ICMS',\n",
       "                                          OrderedDict([('ICMS00',\n",
       "                                                        OrderedDict([('orig',\n",
       "                                                                      '5'),\n",
       "                                                                     ('CST',\n",
       "                                                                      '00'),\n",
       "                                                                     ('modBC',\n",
       "                                                                      '3'),\n",
       "                                                                     ('vBC',\n",
       "                                                                      '6567.69'),\n",
       "                                                                     ('pICMS',\n",
       "                                                                      '18.00'),\n",
       "                                                                     ('vICMS',\n",
       "                                                                      '1182.18')]))])),\n",
       "                                         ('IPI',\n",
       "                                          OrderedDict([('cEnq', '999'),\n",
       "                                                       ('IPITrib',\n",
       "                                                        OrderedDict([('CST',\n",
       "                                                                      '50'),\n",
       "                                                                     ('vBC',\n",
       "                                                                      '6567.69'),\n",
       "                                                                     ('pIPI',\n",
       "                                                                      '5.00'),\n",
       "                                                                     ('vIPI',\n",
       "                                                                      '328.38')]))])),\n",
       "                                         ('PIS',\n",
       "                                          OrderedDict([('PISAliq',\n",
       "                                                        OrderedDict([('CST',\n",
       "                                                                      '01'),\n",
       "                                                                     ('vBC',\n",
       "                                                                      '6567.69'),\n",
       "                                                                     ('pPIS',\n",
       "                                                                      '1.65'),\n",
       "                                                                     ('vPIS',\n",
       "                                                                      '108.37')]))])),\n",
       "                                         ('COFINS',\n",
       "                                          OrderedDict([('COFINSAliq',\n",
       "                                                        OrderedDict([('CST',\n",
       "                                                                      '01'),\n",
       "                                                                     ('vBC',\n",
       "                                                                      '6567.69'),\n",
       "                                                                     ('pCOFINS',\n",
       "                                                                      '7.60'),\n",
       "                                                                     ('vCOFINS',\n",
       "                                                                      '499.14')]))]))]))])),\n",
       "             ('total',\n",
       "              OrderedDict([('ICMSTot',\n",
       "                            OrderedDict([('vBC', '6567.69'),\n",
       "                                         ('vICMS', '1182.18'),\n",
       "                                         ('vICMSDeson', '0.00'),\n",
       "                                         ('vFCP', '0.00'),\n",
       "                                         ('vBCST', '0.00'),\n",
       "                                         ('vST', '0.00'),\n",
       "                                         ('vFCPST', '0.00'),\n",
       "                                         ('vFCPSTRet', '0.00'),\n",
       "                                         ('vProd', '6567.69'),\n",
       "                                         ('vFrete', '0.00'),\n",
       "                                         ('vSeg', '0.00'),\n",
       "                                         ('vDesc', '0.00'),\n",
       "                                         ('vII', '0.00'),\n",
       "                                         ('vIPI', '328.38'),\n",
       "                                         ('vIPIDevol', '0.00'),\n",
       "                                         ('vPIS', '108.37'),\n",
       "                                         ('vCOFINS', '499.14'),\n",
       "                                         ('vOutro', '0.00'),\n",
       "                                         ('vNF', '6896.07')]))])),\n",
       "             ('transp',\n",
       "              OrderedDict([('modFrete', '1'),\n",
       "                           ('vol',\n",
       "                            OrderedDict([('qVol', '20'),\n",
       "                                         ('esp', 'SACO FFS PARA POLIESTIRENO'),\n",
       "                                         ('marca', 'CPE'),\n",
       "                                         ('pesoL', '500.000'),\n",
       "                                         ('pesoB', '502.500')]))])),\n",
       "             ('cobr',\n",
       "              OrderedDict([('fat',\n",
       "                            OrderedDict([('nFat', '0067228'),\n",
       "                                         ('vOrig', '6896.07'),\n",
       "                                         ('vDesc', '0.00'),\n",
       "                                         ('vLiq', '6896.07')])),\n",
       "                           ('dup',\n",
       "                            OrderedDict([('nDup', '001'),\n",
       "                                         ('dVenc', '2019-08-01'),\n",
       "                                         ('vDup', '6896.07')]))])),\n",
       "             ('pag',\n",
       "              OrderedDict([('detPag',\n",
       "                            OrderedDict([('indPag', '1'),\n",
       "                                         ('tPag', '15'),\n",
       "                                         ('vPag', '6896.07')]))])),\n",
       "             ('infAdic',\n",
       "              OrderedDict([('infCpl',\n",
       "                            'OC 10591 AS MERCADORIAS SAIRAO DIRETAMENTE DO ARMAZEM GERAL TQUIM TRANSPORTES LTDA, SITO RUA MAKITA BRASIL 2290, CEP 09852-080 - COOPERATIVA - SAO BERNARDO DO CAMPO - SP CNPJ 44.689.768/0007-85 - I.EST.6357568261. DECLARAMOS PARA OS DEVIDOS FINS QUE AS MERCADORIAS CONSTANTES DESTA NOTA FISCAL ESTAO ACONDICIONADAS DE FORMA ADEQUADA PARA SUPORTAR OS RISCOS NORMAIS DE CARREGAMENTO, TRANSPORTES, ESTIVA, BALDEACAO, TRANSBORDO E DESCARREGAMENTO, CONFORME REGULAMENTACAO EM VIGOR. E PROIBIDO POR LEI O TRANSPORTE NO MESMO VEICULO DE CARGAS QUIMICAS INCOMPATIVEIS ENTRE SI E/OU CONSOLIDADAS COM PRODUTOS ALIMENTICIOS E FARMACEUTICOS. APOS VENCIMENTO ENCARGOS FINANCEIROS.')])),\n",
       "             ('compra', OrderedDict([('xPed', '2155')]))])"
      ]
     },
     "execution_count": 22,
     "metadata": {},
     "output_type": "execute_result"
    }
   ],
   "source": [
    "#doc['nfeProc']['NFe']['infNFe'] #campo importante, possui todas as inf q vou precisar\n",
    "doc['nfeProc']['NFe']['infNFe']"
   ]
  },
  {
   "cell_type": "code",
   "execution_count": 23,
   "metadata": {},
   "outputs": [
    {
     "data": {
      "text/plain": [
       "OrderedDict([('CNPJ', '11272246000481'),\n",
       "             ('xNome', 'CPE - COMPOSTOS PLASTICOS DE ENGENHARIA LTDA.'),\n",
       "             ('xFant', 'CPE - COMPOSTOS PLASTICOS DE ENGENHARIA LTDA.'),\n",
       "             ('enderEmit',\n",
       "              OrderedDict([('xLgr', 'RUA MANOEL PINTO DE CARVALHO'),\n",
       "                           ('nro', '229'),\n",
       "                           ('xBairro', 'LIMAO'),\n",
       "                           ('cMun', '3550308'),\n",
       "                           ('xMun', 'SAO PAULO'),\n",
       "                           ('UF', 'SP'),\n",
       "                           ('CEP', '02712120'),\n",
       "                           ('cPais', '1058'),\n",
       "                           ('xPais', 'BRASIL')])),\n",
       "             ('IE', '147254659115'),\n",
       "             ('CRT', '3')])"
      ]
     },
     "execution_count": 23,
     "metadata": {},
     "output_type": "execute_result"
    }
   ],
   "source": [
    "doc['nfeProc']['NFe']['infNFe']['emit'] #campo importante, possui o cnpj emitido"
   ]
  },
  {
   "cell_type": "code",
   "execution_count": 24,
   "metadata": {},
   "outputs": [
    {
     "data": {
      "text/plain": [
       "OrderedDict([('@nItem', '1'),\n",
       "             ('prod',\n",
       "              OrderedDict([('cProd', '11008513'),\n",
       "                           ('cEAN', 'SEM GTIN'),\n",
       "                           ('xProd',\n",
       "                            'STAPP TF1308 ESU CZ185 BGXX25 KG ITEM: C390 /GMID: 11008513'),\n",
       "                           ('NCM', '39019090'),\n",
       "                           ('CFOP', '5105'),\n",
       "                           ('uCom', 'KG'),\n",
       "                           ('qCom', '500.00'),\n",
       "                           ('vUnCom', '13.13538'),\n",
       "                           ('vProd', '6567.69'),\n",
       "                           ('cEANTrib', 'SEM GTIN'),\n",
       "                           ('uTrib', 'KG'),\n",
       "                           ('qTrib', '500.00'),\n",
       "                           ('vUnTrib', '13.13538'),\n",
       "                           ('indTot', '1'),\n",
       "                           ('nFCI', '3E2BAC23-5E4E-4677-89A2-E38B40C19206')])),\n",
       "             ('imposto',\n",
       "              OrderedDict([('ICMS',\n",
       "                            OrderedDict([('ICMS00',\n",
       "                                          OrderedDict([('orig', '5'),\n",
       "                                                       ('CST', '00'),\n",
       "                                                       ('modBC', '3'),\n",
       "                                                       ('vBC', '6567.69'),\n",
       "                                                       ('pICMS', '18.00'),\n",
       "                                                       ('vICMS',\n",
       "                                                        '1182.18')]))])),\n",
       "                           ('IPI',\n",
       "                            OrderedDict([('cEnq', '999'),\n",
       "                                         ('IPITrib',\n",
       "                                          OrderedDict([('CST', '50'),\n",
       "                                                       ('vBC', '6567.69'),\n",
       "                                                       ('pIPI', '5.00'),\n",
       "                                                       ('vIPI',\n",
       "                                                        '328.38')]))])),\n",
       "                           ('PIS',\n",
       "                            OrderedDict([('PISAliq',\n",
       "                                          OrderedDict([('CST', '01'),\n",
       "                                                       ('vBC', '6567.69'),\n",
       "                                                       ('pPIS', '1.65'),\n",
       "                                                       ('vPIS',\n",
       "                                                        '108.37')]))])),\n",
       "                           ('COFINS',\n",
       "                            OrderedDict([('COFINSAliq',\n",
       "                                          OrderedDict([('CST', '01'),\n",
       "                                                       ('vBC', '6567.69'),\n",
       "                                                       ('pCOFINS', '7.60'),\n",
       "                                                       ('vCOFINS',\n",
       "                                                        '499.14')]))]))]))])"
      ]
     },
     "execution_count": 24,
     "metadata": {},
     "output_type": "execute_result"
    }
   ],
   "source": [
    "doc['nfeProc']['NFe']['infNFe']['det'] #possui os campos para fazer as operacoes"
   ]
  },
  {
   "cell_type": "markdown",
   "metadata": {},
   "source": [
    "\n",
    "**PERGUNTAR SE O XML COM UM CAMPO SOMENTE TEM TODOS OS PASSOS PRA FAZER**\n",
    "\n",
    "0 - aplicar as regras abaixo somente para determinados CNPJ constantes no campo emitente\n",
    "\n",
    "1 - retirar o vicms da vbc pis\n",
    "\n",
    "2 - calcular vpis multiplicando ppis com vbc pis\n",
    "\n",
    "3 - retirar o vicms da vbc cofins\n",
    "\n",
    "4 - calcular vcofins multiplicando pcofins com vbc cofins\n",
    "\n",
    "5 - atualizar \\<total> \\<vPIS>\\</vPIS> \\<vCOFINS>\\</vCOFINS> com os novos valores totais de pis cofins\n",
    "\n",
    "ah, e o campo ppis é em percentual\n",
    "\n",
    "então 1,65 equivale a 1,65% ou ,0165"
   ]
  },
  {
   "cell_type": "markdown",
   "metadata": {},
   "source": [
    "# PASSO 1"
   ]
  },
  {
   "cell_type": "code",
   "execution_count": 25,
   "metadata": {},
   "outputs": [
    {
     "data": {
      "text/plain": [
       "OrderedDict([('ICMS',\n",
       "              OrderedDict([('ICMS00',\n",
       "                            OrderedDict([('orig', '5'),\n",
       "                                         ('CST', '00'),\n",
       "                                         ('modBC', '3'),\n",
       "                                         ('vBC', '6567.69'),\n",
       "                                         ('pICMS', '18.00'),\n",
       "                                         ('vICMS', '1182.18')]))])),\n",
       "             ('IPI',\n",
       "              OrderedDict([('cEnq', '999'),\n",
       "                           ('IPITrib',\n",
       "                            OrderedDict([('CST', '50'),\n",
       "                                         ('vBC', '6567.69'),\n",
       "                                         ('pIPI', '5.00'),\n",
       "                                         ('vIPI', '328.38')]))])),\n",
       "             ('PIS',\n",
       "              OrderedDict([('PISAliq',\n",
       "                            OrderedDict([('CST', '01'),\n",
       "                                         ('vBC', '6567.69'),\n",
       "                                         ('pPIS', '1.65'),\n",
       "                                         ('vPIS', '108.37')]))])),\n",
       "             ('COFINS',\n",
       "              OrderedDict([('COFINSAliq',\n",
       "                            OrderedDict([('CST', '01'),\n",
       "                                         ('vBC', '6567.69'),\n",
       "                                         ('pCOFINS', '7.60'),\n",
       "                                         ('vCOFINS', '499.14')]))]))])"
      ]
     },
     "execution_count": 25,
     "metadata": {},
     "output_type": "execute_result"
    }
   ],
   "source": [
    "doc['nfeProc']['NFe']['infNFe']['det']['imposto']"
   ]
  },
  {
   "cell_type": "code",
   "execution_count": null,
   "metadata": {},
   "outputs": [],
   "source": [
    "del doc['nfeProc']['NFe']['infNFe']['det']['imposto'][\"ICMS\"]['ICMS00']['vICMS']"
   ]
  },
  {
   "cell_type": "code",
   "execution_count": null,
   "metadata": {},
   "outputs": [],
   "source": [
    "doc['nfeProc']['NFe']['infNFe']['det']['imposto']"
   ]
  },
  {
   "cell_type": "markdown",
   "metadata": {},
   "source": [
    "# PASSO 2"
   ]
  },
  {
   "cell_type": "code",
   "execution_count": null,
   "metadata": {},
   "outputs": [],
   "source": []
  }
 ],
 "metadata": {
  "kernelspec": {
   "display_name": "Python 3",
   "language": "python",
   "name": "python3"
  },
  "language_info": {
   "codemirror_mode": {
    "name": "ipython",
    "version": 3
   },
   "file_extension": ".py",
   "mimetype": "text/x-python",
   "name": "python",
   "nbconvert_exporter": "python",
   "pygments_lexer": "ipython3",
   "version": "3.7.3"
  }
 },
 "nbformat": 4,
 "nbformat_minor": 4
}
