{
 "cells": [
  {
   "cell_type": "markdown",
   "metadata": {},
   "source": [
    "# REGRAS PARA APLICAR\n",
    "\n",
    "0 - aplicar as regras abaixo somente para determinados CNPJ constantes no campo emitente\n",
    "\n",
    "1 - retirar o vicms da vbc pis\n",
    "\n",
    "2 - calcular vpis multiplicando ppis com vbc pis\n",
    "\n",
    "3 - retirar o vicms da vbc cofins\n",
    "\n",
    "4 - calcular vcofins multiplicando pcofins com vbc cofins\n",
    "\n",
    "5 - atualizar \\<total> \\<vPIS>\\</vPIS> \\<vCOFINS>\\</vCOFINS> com os novos valores totais de pis cofins"
   ]
  },
  {
   "cell_type": "markdown",
   "metadata": {},
   "source": [
    "# REGRAS QUE EU DESCOBRI DO JEITO QUE PRECISA FAZER\n",
    "\n",
    "0 - aplicar as regras abaixo somente para determinados CNPJ constantes no campo emitente\n",
    "\n",
    "1 - retirar o vicms da vbc pis\n",
    "\n",
    "2 - calcular vpis multiplicando ppis com vbc pis (ppis é em porcentagem)\n",
    "\n",
    "3 - retirar o vicms da vbc cofins\n",
    "\n",
    "4 - calcular vcofins multiplicando pcofins com vbc cofins (o campo PCOFINS é uma porcentagem)\n",
    "\n",
    "5 - atualizar \\<total> \\<vPIS>\\</vPIS> \\<vCOFINS>\\</vCOFINS> com os novos valores totais de pis cofins"
   ]
  },
  {
   "cell_type": "markdown",
   "metadata": {},
   "source": [
    "# DÚVIDAS\n",
    "\n",
    "1 - retirar o vicms da vbc pis\n",
    "\n",
    "Para a regra 1, nos dois XML que você enviou, eu não identifiquei o campo vICMS no PIS, então fiquei com dúvida sobre o que remover, pode verificar pra mim se está correto?\n",
    "\n",
    "como você pode ver nessa imagem que eu enviei, eu só identifiquei o campo vICMS dentro do campo ICMS, seria este que eu deveria remover então?\n",
    "\n",
    "3 - retirar o vicms da vbc cofins\n",
    "\n",
    "O mesmo vale para a regra 1, não identifiquei o vICMS no campo COFINS.\n",
    "\n",
    "Porém, esses dois campos, tanto o PIS quanto o COFINS possuem um campo dentro deles chamado vBC, seria este que eu deveria remover dos XMLs?\n",
    "\n",
    "4 - calcular vcofins multiplicando pcofins com vbc cofins\n",
    "\n",
    "Neste passo, seguindo o exemplo da imagem que eu te enviei, quando você diz vBC COFINS significa o vBC dentro do campo COFINS? Se sim, então para esse passo eu deveria fazer:\n",
    "\n",
    "vCOFINS = pCOFINS * vBC\n",
    "vCOFINS = 7.60 * 6567.69\n",
    "vCOFINS = 49914.44\n",
    "vCOFINS =  499.1444 (Em porcentagem)\n",
    "\n",
    "Eu estranhei pois se for assim, dará um valor muito alto, peço que confirme pra mim por favor\n",
    "\n",
    "5 - atualizar \\<total> \\<vPIS>\\</vPIS> \\<vCOFINS>\\</vCOFINS> com os novos valores totais de pis cofins\n",
    "\n",
    "Nessa regra, quando você dis PIS COFINS, você está se referindo ao pCOFINS ?"
   ]
  },
  {
   "cell_type": "markdown",
   "metadata": {},
   "source": [
    "# RESPOSTAS\n",
    "\n",
    "1 - isso mesmo, deve ser retirado o vICMS do campo VBC de pis e VBC de COFINS. Não tem u mcampo próprio de icms dentro do pis ou do cofins\n",
    "\n",
    "3 - vou mandar um xml original e um xml que eu alterei manualmente p elucidar quando eu digo \"retirar\".\n",
    "\n",
    "e vou tentar escrever de um jeito diferente: o valor constante no campo vICMS deve ser subtraído dos dois campos VBC que estão dentro do PIS e do COFINS. a complicação desta operação pode acontecer quando tiver dois itens, mas vamos fazer um funcionar para então avançarmos\n",
    "\n",
    "4 - o campo PCOFINS é uma porcentagem, então a operação é:\n",
    "vCOFINS = pCOFINS * vBC\n",
    "vCOFINS = 0,076 * 6567.69 ou 7,6% * 6567,69\n",
    "vCOFINS = 499,14\n",
    "\n",
    "entretanto, o novo valor da VBC de COFINS é a subtração de VBC (de cofins) - VICMS. que neste caso em específico, VBC de COFINS= 5.385,51\n",
    "\n",
    "0 - ainda sobre a regra número 0, vou te passar uma lista dos cnpj, mas mensalmente são adicionados novos. precisamos seja possível nós mesmos iserir futuros cnpj para o filtro\n",
    "\n",
    "5 - Nesta regra me refiro ao registro pai \\<total> onde consta os campos \\<vPIS>\\</vPIS>\n",
    "\n",
    "\\<vCOFINS>\\</vCOFINS>\n",
    "\n",
    "que é o resultado da somatória de todos os campos vpis dentro deste esquema xml"
   ]
  },
  {
   "cell_type": "code",
   "execution_count": 1,
   "metadata": {},
   "outputs": [],
   "source": [
    "import xmltodict"
   ]
  },
  {
   "cell_type": "code",
   "execution_count": 3,
   "metadata": {},
   "outputs": [],
   "source": [
    "with open('input/NF_000067228_ChaveAcesso_35190711272246000481550010000672281733208444.xml') as fd:\n",
    "    doc = xmltodict.parse(fd.read())  "
   ]
  },
  {
   "cell_type": "code",
   "execution_count": 5,
   "metadata": {},
   "outputs": [
    {
     "data": {
      "text/plain": [
       "3"
      ]
     },
     "execution_count": 5,
     "metadata": {},
     "output_type": "execute_result"
    }
   ],
   "source": [
    "len(doc['nfeProc']['NFe'][\"infNFe\"][\"det\"])"
   ]
  },
  {
   "cell_type": "code",
   "execution_count": 6,
   "metadata": {},
   "outputs": [
    {
     "data": {
      "text/plain": [
       "OrderedDict([('@nItem', '1'),\n",
       "             ('prod',\n",
       "              OrderedDict([('cProd', '11008513'),\n",
       "                           ('cEAN', 'SEM GTIN'),\n",
       "                           ('xProd',\n",
       "                            'STAPP TF1308 ESU CZ185 BGXX25 KG ITEM: C390 /GMID: 11008513'),\n",
       "                           ('NCM', '39019090'),\n",
       "                           ('CFOP', '5105'),\n",
       "                           ('uCom', 'KG'),\n",
       "                           ('qCom', '500.00'),\n",
       "                           ('vUnCom', '13.13538'),\n",
       "                           ('vProd', '6567.69'),\n",
       "                           ('cEANTrib', 'SEM GTIN'),\n",
       "                           ('uTrib', 'KG'),\n",
       "                           ('qTrib', '500.00'),\n",
       "                           ('vUnTrib', '13.13538'),\n",
       "                           ('indTot', '1'),\n",
       "                           ('nFCI', '3E2BAC23-5E4E-4677-89A2-E38B40C19206')])),\n",
       "             ('imposto',\n",
       "              OrderedDict([('ICMS',\n",
       "                            OrderedDict([('ICMS00',\n",
       "                                          OrderedDict([('orig', '5'),\n",
       "                                                       ('CST', '00'),\n",
       "                                                       ('modBC', '3'),\n",
       "                                                       ('vBC', '6567.69'),\n",
       "                                                       ('pICMS', '18.00'),\n",
       "                                                       ('vICMS',\n",
       "                                                        '1182.18')]))])),\n",
       "                           ('IPI',\n",
       "                            OrderedDict([('cEnq', '999'),\n",
       "                                         ('IPITrib',\n",
       "                                          OrderedDict([('CST', '50'),\n",
       "                                                       ('vBC', '6567.69'),\n",
       "                                                       ('pIPI', '5.00'),\n",
       "                                                       ('vIPI',\n",
       "                                                        '328.38')]))])),\n",
       "                           ('PIS',\n",
       "                            OrderedDict([('PISAliq',\n",
       "                                          OrderedDict([('CST', '01'),\n",
       "                                                       ('vBC', '6567.69'),\n",
       "                                                       ('pPIS', '1.65'),\n",
       "                                                       ('vPIS',\n",
       "                                                        '108.37')]))])),\n",
       "                           ('COFINS',\n",
       "                            OrderedDict([('COFINSAliq',\n",
       "                                          OrderedDict([('CST', '01'),\n",
       "                                                       ('vBC', '6567.69'),\n",
       "                                                       ('pCOFINS', '7.60'),\n",
       "                                                       ('vCOFINS',\n",
       "                                                        '499.14')]))]))]))])"
      ]
     },
     "execution_count": 6,
     "metadata": {},
     "output_type": "execute_result"
    }
   ],
   "source": [
    "doc['nfeProc']['NFe'][\"infNFe\"][\"det\"]"
   ]
  },
  {
   "cell_type": "code",
   "execution_count": null,
   "metadata": {},
   "outputs": [],
   "source": [
    "doc"
   ]
  },
  {
   "cell_type": "code",
   "execution_count": null,
   "metadata": {},
   "outputs": [],
   "source": [
    "doc.keys()"
   ]
  },
  {
   "cell_type": "code",
   "execution_count": null,
   "metadata": {},
   "outputs": [],
   "source": [
    "doc['nfeProc'].keys()"
   ]
  },
  {
   "cell_type": "code",
   "execution_count": null,
   "metadata": {},
   "outputs": [],
   "source": [
    "#doc['nfeProc']['NFe']['infNFe'] #campo importante, possui todas as inf q vou precisar\n",
    "doc['nfeProc']['NFe']['infNFe']"
   ]
  },
  {
   "cell_type": "code",
   "execution_count": null,
   "metadata": {},
   "outputs": [],
   "source": [
    "doc['nfeProc']['NFe']['infNFe']['emit'] #campo importante, possui o cnpj emitido"
   ]
  },
  {
   "cell_type": "code",
   "execution_count": null,
   "metadata": {},
   "outputs": [],
   "source": [
    "doc['nfeProc']['NFe']['infNFe']['det'] #possui os campos para fazer as operacoes"
   ]
  },
  {
   "cell_type": "code",
   "execution_count": 3,
   "metadata": {},
   "outputs": [
    {
     "data": {
      "text/plain": [
       "OrderedDict([('ICMS',\n",
       "              OrderedDict([('ICMS00',\n",
       "                            OrderedDict([('orig', '5'),\n",
       "                                         ('CST', '00'),\n",
       "                                         ('modBC', '3'),\n",
       "                                         ('vBC', '6567.69'),\n",
       "                                         ('pICMS', '18.00'),\n",
       "                                         ('vICMS', '1182.18')]))])),\n",
       "             ('IPI',\n",
       "              OrderedDict([('cEnq', '999'),\n",
       "                           ('IPITrib',\n",
       "                            OrderedDict([('CST', '50'),\n",
       "                                         ('vBC', '6567.69'),\n",
       "                                         ('pIPI', '5.00'),\n",
       "                                         ('vIPI', '328.38')]))])),\n",
       "             ('PIS',\n",
       "              OrderedDict([('PISAliq',\n",
       "                            OrderedDict([('CST', '01'),\n",
       "                                         ('vBC', '6567.69'),\n",
       "                                         ('pPIS', '1.65'),\n",
       "                                         ('vPIS', '108.37')]))])),\n",
       "             ('COFINS',\n",
       "              OrderedDict([('COFINSAliq',\n",
       "                            OrderedDict([('CST', '01'),\n",
       "                                         ('vBC', '6567.69'),\n",
       "                                         ('pCOFINS', '7.60'),\n",
       "                                         ('vCOFINS', '499.14')]))]))])"
      ]
     },
     "execution_count": 3,
     "metadata": {},
     "output_type": "execute_result"
    }
   ],
   "source": [
    "doc['nfeProc']['NFe']['infNFe']['det']['imposto']"
   ]
  },
  {
   "cell_type": "markdown",
   "metadata": {},
   "source": [
    "# PASSO 1\n",
    "\n",
    "1 - retirar o vicms da vbc pis\n"
   ]
  },
  {
   "cell_type": "code",
   "execution_count": 5,
   "metadata": {},
   "outputs": [],
   "source": [
    "vICMS = doc['nfeProc']['NFe']['infNFe']['det']['imposto'][\"ICMS\"][\"ICMS00\"][\"vICMS\"]"
   ]
  },
  {
   "cell_type": "code",
   "execution_count": 6,
   "metadata": {},
   "outputs": [],
   "source": [
    "vBC_PIS = doc['nfeProc']['NFe']['infNFe']['det']['imposto'][\"PIS\"][\"PISAliq\"][\"vBC\"]\n",
    "new_vBC_PIS = str(round(eval(vBC_PIS+'-'+vICMS),2))\n",
    "doc['nfeProc']['NFe']['infNFe']['det']['imposto'][\"PIS\"][\"PISAliq\"][\"vBC\"] = new_vBC_PIS"
   ]
  },
  {
   "cell_type": "code",
   "execution_count": null,
   "metadata": {},
   "outputs": [],
   "source": [
    "doc['nfeProc']['NFe']['infNFe']['det']['imposto'] #done"
   ]
  },
  {
   "cell_type": "markdown",
   "metadata": {},
   "source": [
    "# PASSO 2\n",
    "\n",
    "calcular vpis multiplicando ppis com vbc pis (ppis é em porcentagem)\n"
   ]
  },
  {
   "cell_type": "code",
   "execution_count": 8,
   "metadata": {},
   "outputs": [
    {
     "data": {
      "text/plain": [
       "OrderedDict([('ICMS',\n",
       "              OrderedDict([('ICMS00',\n",
       "                            OrderedDict([('orig', '5'),\n",
       "                                         ('CST', '00'),\n",
       "                                         ('modBC', '3'),\n",
       "                                         ('vBC', '6567.69'),\n",
       "                                         ('pICMS', '18.00'),\n",
       "                                         ('vICMS', '1182.18')]))])),\n",
       "             ('IPI',\n",
       "              OrderedDict([('cEnq', '999'),\n",
       "                           ('IPITrib',\n",
       "                            OrderedDict([('CST', '50'),\n",
       "                                         ('vBC', '6567.69'),\n",
       "                                         ('pIPI', '5.00'),\n",
       "                                         ('vIPI', '328.38')]))])),\n",
       "             ('PIS',\n",
       "              OrderedDict([('PISAliq',\n",
       "                            OrderedDict([('CST', '01'),\n",
       "                                         ('vBC', '5385.51'),\n",
       "                                         ('pPIS', '1.65'),\n",
       "                                         ('vPIS', '108.37')]))])),\n",
       "             ('COFINS',\n",
       "              OrderedDict([('COFINSAliq',\n",
       "                            OrderedDict([('CST', '01'),\n",
       "                                         ('vBC', '6567.69'),\n",
       "                                         ('pCOFINS', '7.60'),\n",
       "                                         ('vCOFINS', '499.14')]))]))])"
      ]
     },
     "execution_count": 8,
     "metadata": {},
     "output_type": "execute_result"
    }
   ],
   "source": [
    "doc['nfeProc']['NFe']['infNFe']['det']['imposto']"
   ]
  },
  {
   "cell_type": "code",
   "execution_count": 9,
   "metadata": {},
   "outputs": [],
   "source": [
    "# vPIS = doc['nfeProc']['NFe']['infNFe']['det']['imposto'][\"PIS\"][\"PISAliq\"][\"vPIS\"]\n",
    "pPIS = doc['nfeProc']['NFe']['infNFe']['det']['imposto'][\"PIS\"][\"PISAliq\"][\"pPIS\"]\n",
    "# vBC_PIS = doc['nfeProc']['NFe']['infNFe']['det']['imposto'][\"PIS\"][\"PISAliq\"][\"vBC\"]\n",
    "\n",
    "new_vPIS = str(round(eval(pPIS+'*'+new_vBC_PIS),2))\n",
    "new_vPIS = str(round(eval(new_vPIS+'*0.01'),2))"
   ]
  },
  {
   "cell_type": "code",
   "execution_count": 10,
   "metadata": {},
   "outputs": [
    {
     "data": {
      "text/plain": [
       "'88.86'"
      ]
     },
     "execution_count": 10,
     "metadata": {},
     "output_type": "execute_result"
    }
   ],
   "source": [
    "new_vPIS"
   ]
  },
  {
   "cell_type": "code",
   "execution_count": 11,
   "metadata": {},
   "outputs": [],
   "source": [
    "doc['nfeProc']['NFe']['infNFe']['det']['imposto'][\"PIS\"][\"PISAliq\"][\"vPIS\"] = new_vPIS"
   ]
  },
  {
   "cell_type": "markdown",
   "metadata": {},
   "source": [
    "# PASSO 3 \n",
    "\n",
    "retirar o vicms da vbc cofins"
   ]
  },
  {
   "cell_type": "code",
   "execution_count": 13,
   "metadata": {},
   "outputs": [],
   "source": [
    "# vICMS = doc['nfeProc']['NFe']['infNFe']['det']['imposto'][\"ICMS\"][\"ICMS00\"][\"vICMS\"]\n",
    "vBC_COFINS = doc['nfeProc']['NFe']['infNFe']['det']['imposto'][\"COFINS\"][\"COFINSAliq\"][\"vBC\"]\n",
    "new_vBC_COFINS = str(round(eval(vBC_COFINS+'-'+vICMS),2))\n",
    "doc['nfeProc']['NFe']['infNFe']['det']['imposto'][\"COFINS\"][\"COFINSAliq\"][\"vBC\"] = new_vBC_COFINS"
   ]
  },
  {
   "cell_type": "markdown",
   "metadata": {},
   "source": [
    "# PASSO 4\n",
    "\n",
    "4 - calcular vcofins multiplicando pcofins com vbc cofins (o campo PCOFINS é uma porcentagem)\n"
   ]
  },
  {
   "cell_type": "code",
   "execution_count": 16,
   "metadata": {},
   "outputs": [
    {
     "data": {
      "text/plain": [
       "OrderedDict([('ICMS',\n",
       "              OrderedDict([('ICMS00',\n",
       "                            OrderedDict([('orig', '5'),\n",
       "                                         ('CST', '00'),\n",
       "                                         ('modBC', '3'),\n",
       "                                         ('vBC', '6567.69'),\n",
       "                                         ('pICMS', '18.00'),\n",
       "                                         ('vICMS', '1182.18')]))])),\n",
       "             ('IPI',\n",
       "              OrderedDict([('cEnq', '999'),\n",
       "                           ('IPITrib',\n",
       "                            OrderedDict([('CST', '50'),\n",
       "                                         ('vBC', '6567.69'),\n",
       "                                         ('pIPI', '5.00'),\n",
       "                                         ('vIPI', '328.38')]))])),\n",
       "             ('PIS',\n",
       "              OrderedDict([('PISAliq',\n",
       "                            OrderedDict([('CST', '01'),\n",
       "                                         ('vBC', '5385.51'),\n",
       "                                         ('pPIS', '1.65'),\n",
       "                                         ('vPIS', '88.86')]))])),\n",
       "             ('COFINS',\n",
       "              OrderedDict([('COFINSAliq',\n",
       "                            OrderedDict([('CST', '01'),\n",
       "                                         ('vBC', '5385.51'),\n",
       "                                         ('pCOFINS', '7.60'),\n",
       "                                         ('vCOFINS', '499.14')]))]))])"
      ]
     },
     "execution_count": 16,
     "metadata": {},
     "output_type": "execute_result"
    }
   ],
   "source": [
    "doc['nfeProc']['NFe']['infNFe']['det']['imposto']"
   ]
  },
  {
   "cell_type": "code",
   "execution_count": 17,
   "metadata": {},
   "outputs": [],
   "source": [
    "pCOFINS = doc['nfeProc']['NFe']['infNFe']['det']['imposto'][\"COFINS\"][\"COFINSAliq\"][\"pCOFINS\"]\n",
    "# new_vBC_COFINS = doc['nfeProc']['NFe']['infNFe']['det']['imposto'][\"COFINS\"][\"COFINSAliq\"][\"vBC\"]\n",
    "new_vCOFINS = str(round(eval(pCOFINS+'*'+new_vBC_COFINS),2))\n",
    "new_vCOFINS = str(round(eval(new_vCOFINS+'*0.01'),2))"
   ]
  },
  {
   "cell_type": "code",
   "execution_count": 18,
   "metadata": {},
   "outputs": [
    {
     "data": {
      "text/plain": [
       "'409.3'"
      ]
     },
     "execution_count": 18,
     "metadata": {},
     "output_type": "execute_result"
    }
   ],
   "source": [
    "new_vCOFINS"
   ]
  },
  {
   "cell_type": "code",
   "execution_count": 19,
   "metadata": {},
   "outputs": [],
   "source": [
    "doc['nfeProc']['NFe']['infNFe']['det']['imposto'][\"COFINS\"][\"COFINSAliq\"][\"vCOFINS\"] = new_vCOFINS"
   ]
  },
  {
   "cell_type": "markdown",
   "metadata": {},
   "source": [
    "# PASSO 5\n",
    "5 - atualizar \\<total> \\<vPIS>\\</vPIS> \\<vCOFINS>\\</vCOFINS> com os novos valores totais de pis cofins"
   ]
  },
  {
   "cell_type": "code",
   "execution_count": 20,
   "metadata": {},
   "outputs": [
    {
     "data": {
      "text/plain": [
       "'88.86'"
      ]
     },
     "execution_count": 20,
     "metadata": {},
     "output_type": "execute_result"
    }
   ],
   "source": [
    "new_vPIS"
   ]
  },
  {
   "cell_type": "code",
   "execution_count": 21,
   "metadata": {},
   "outputs": [
    {
     "data": {
      "text/plain": [
       "'409.3'"
      ]
     },
     "execution_count": 21,
     "metadata": {},
     "output_type": "execute_result"
    }
   ],
   "source": [
    "new_vCOFINS"
   ]
  },
  {
   "cell_type": "code",
   "execution_count": 22,
   "metadata": {},
   "outputs": [],
   "source": [
    "doc['nfeProc']['NFe']['infNFe'][\"total\"][\"ICMSTot\"][\"vPIS\"] = new_vPIS\n",
    "doc['nfeProc']['NFe']['infNFe'][\"total\"][\"ICMSTot\"][\"vCOFINS\"] = new_vCOFINS"
   ]
  },
  {
   "cell_type": "code",
   "execution_count": 23,
   "metadata": {},
   "outputs": [
    {
     "data": {
      "text/plain": [
       "OrderedDict([('ICMSTot',\n",
       "              OrderedDict([('vBC', '6567.69'),\n",
       "                           ('vICMS', '1182.18'),\n",
       "                           ('vICMSDeson', '0.00'),\n",
       "                           ('vFCP', '0.00'),\n",
       "                           ('vBCST', '0.00'),\n",
       "                           ('vST', '0.00'),\n",
       "                           ('vFCPST', '0.00'),\n",
       "                           ('vFCPSTRet', '0.00'),\n",
       "                           ('vProd', '6567.69'),\n",
       "                           ('vFrete', '0.00'),\n",
       "                           ('vSeg', '0.00'),\n",
       "                           ('vDesc', '0.00'),\n",
       "                           ('vII', '0.00'),\n",
       "                           ('vIPI', '328.38'),\n",
       "                           ('vIPIDevol', '0.00'),\n",
       "                           ('vPIS', '88.86'),\n",
       "                           ('vCOFINS', '409.3'),\n",
       "                           ('vOutro', '0.00'),\n",
       "                           ('vNF', '6896.07')]))])"
      ]
     },
     "execution_count": 23,
     "metadata": {},
     "output_type": "execute_result"
    }
   ],
   "source": [
    "doc['nfeProc']['NFe']['infNFe'][\"total\"]"
   ]
  },
  {
   "cell_type": "code",
   "execution_count": null,
   "metadata": {},
   "outputs": [],
   "source": []
  }
 ],
 "metadata": {
  "kernelspec": {
   "display_name": "Python 3",
   "language": "python",
   "name": "python3"
  },
  "language_info": {
   "codemirror_mode": {
    "name": "ipython",
    "version": 3
   },
   "file_extension": ".py",
   "mimetype": "text/x-python",
   "name": "python",
   "nbconvert_exporter": "python",
   "pygments_lexer": "ipython3",
   "version": "3.7.3"
  }
 },
 "nbformat": 4,
 "nbformat_minor": 4
}
