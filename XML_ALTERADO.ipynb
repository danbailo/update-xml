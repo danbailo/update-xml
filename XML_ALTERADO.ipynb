{
 "cells": [
  {
   "cell_type": "code",
   "execution_count": 1,
   "metadata": {},
   "outputs": [],
   "source": [
    "import xmltodict"
   ]
  },
  {
   "cell_type": "code",
   "execution_count": 2,
   "metadata": {},
   "outputs": [],
   "source": [
    "with open('NF_000067228_ChaveAcesso_35190711272246000481550010000672281733208444.xml') as fd:\n",
    "    doc = xmltodict.parse(fd.read())"
   ]
  },
  {
   "cell_type": "code",
   "execution_count": 3,
   "metadata": {},
   "outputs": [],
   "source": [
    "with open('NF_000067228_ChaveAcesso_35190711272246000481550010000672281733208444 - alterado.xml') as fd:\n",
    "    doc_alterado = xmltodict.parse(fd.read())"
   ]
  },
  {
   "cell_type": "code",
   "execution_count": 22,
   "metadata": {},
   "outputs": [
    {
     "data": {
      "text/plain": [
       "OrderedDict([('ICMS',\n",
       "              OrderedDict([('ICMS00',\n",
       "                            OrderedDict([('orig', '5'),\n",
       "                                         ('CST', '00'),\n",
       "                                         ('modBC', '3'),\n",
       "                                         ('vBC', '6567.69'),\n",
       "                                         ('pICMS', '18.00'),\n",
       "                                         ('vICMS', '1182.18')]))])),\n",
       "             ('IPI',\n",
       "              OrderedDict([('cEnq', '999'),\n",
       "                           ('IPITrib',\n",
       "                            OrderedDict([('CST', '50'),\n",
       "                                         ('vBC', '6567.69'),\n",
       "                                         ('pIPI', '5.00'),\n",
       "                                         ('vIPI', '328.38')]))])),\n",
       "             ('PIS',\n",
       "              OrderedDict([('PISAliq',\n",
       "                            OrderedDict([('CST', '01'),\n",
       "                                         ('vBC', '6567.69'),\n",
       "                                         ('pPIS', '1.65'),\n",
       "                                         ('vPIS', '108.37')]))])),\n",
       "             ('COFINS',\n",
       "              OrderedDict([('COFINSAliq',\n",
       "                            OrderedDict([('CST', '01'),\n",
       "                                         ('vBC', '6567.69'),\n",
       "                                         ('pCOFINS', '7.60'),\n",
       "                                         ('vCOFINS', '499.14')]))]))])"
      ]
     },
     "execution_count": 22,
     "metadata": {},
     "output_type": "execute_result"
    }
   ],
   "source": [
    "doc['nfeProc']['NFe']['infNFe']['det']['imposto']"
   ]
  },
  {
   "cell_type": "code",
   "execution_count": 21,
   "metadata": {},
   "outputs": [
    {
     "data": {
      "text/plain": [
       "OrderedDict([('ICMS',\n",
       "              OrderedDict([('ICMS00',\n",
       "                            OrderedDict([('orig', '5'),\n",
       "                                         ('CST', '00'),\n",
       "                                         ('modBC', '3'),\n",
       "                                         ('vBC', '6567.69'),\n",
       "                                         ('pICMS', '18.00'),\n",
       "                                         ('vICMS', '1182.18')]))])),\n",
       "             ('IPI',\n",
       "              OrderedDict([('cEnq', '999'),\n",
       "                           ('IPITrib',\n",
       "                            OrderedDict([('CST', '50'),\n",
       "                                         ('vBC', '6567.69'),\n",
       "                                         ('pIPI', '5.00'),\n",
       "                                         ('vIPI', '328.38')]))])),\n",
       "             ('PIS',\n",
       "              OrderedDict([('PISAliq',\n",
       "                            OrderedDict([('CST', '01'),\n",
       "                                         ('vBC', '5385.51'),\n",
       "                                         ('pPIS', '1.65'),\n",
       "                                         ('vPIS', '88.86')]))])),\n",
       "             ('COFINS',\n",
       "              OrderedDict([('COFINSAliq',\n",
       "                            OrderedDict([('CST', '01'),\n",
       "                                         ('vBC', '5385.51'),\n",
       "                                         ('pCOFINS', '7.60'),\n",
       "                                         ('vCOFINS', '409.30')]))]))])"
      ]
     },
     "execution_count": 21,
     "metadata": {},
     "output_type": "execute_result"
    }
   ],
   "source": [
    "doc_alterado['nfeProc']['NFe']['infNFe']['det']['imposto']"
   ]
  },
  {
   "cell_type": "code",
   "execution_count": 24,
   "metadata": {},
   "outputs": [
    {
     "data": {
      "text/plain": [
       "OrderedDict([('ICMSTot',\n",
       "              OrderedDict([('vBC', '6567.69'),\n",
       "                           ('vICMS', '1182.18'),\n",
       "                           ('vICMSDeson', '0.00'),\n",
       "                           ('vFCP', '0.00'),\n",
       "                           ('vBCST', '0.00'),\n",
       "                           ('vST', '0.00'),\n",
       "                           ('vFCPST', '0.00'),\n",
       "                           ('vFCPSTRet', '0.00'),\n",
       "                           ('vProd', '6567.69'),\n",
       "                           ('vFrete', '0.00'),\n",
       "                           ('vSeg', '0.00'),\n",
       "                           ('vDesc', '0.00'),\n",
       "                           ('vII', '0.00'),\n",
       "                           ('vIPI', '328.38'),\n",
       "                           ('vIPIDevol', '0.00'),\n",
       "                           ('vPIS', '88.86'),\n",
       "                           ('vCOFINS', '409.30'),\n",
       "                           ('vOutro', '0.00'),\n",
       "                           ('vNF', '6896.07')]))])"
      ]
     },
     "execution_count": 24,
     "metadata": {},
     "output_type": "execute_result"
    }
   ],
   "source": [
    "doc_alterado['nfeProc']['NFe']['infNFe'][\"total\"]"
   ]
  },
  {
   "cell_type": "code",
   "execution_count": null,
   "metadata": {},
   "outputs": [],
   "source": []
  }
 ],
 "metadata": {
  "kernelspec": {
   "display_name": "Python 3",
   "language": "python",
   "name": "python3"
  },
  "language_info": {
   "codemirror_mode": {
    "name": "ipython",
    "version": 3
   },
   "file_extension": ".py",
   "mimetype": "text/x-python",
   "name": "python",
   "nbconvert_exporter": "python",
   "pygments_lexer": "ipython3",
   "version": "3.7.3"
  }
 },
 "nbformat": 4,
 "nbformat_minor": 4
}
